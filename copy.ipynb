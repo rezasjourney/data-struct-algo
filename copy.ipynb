{
 "cells": [
  {
   "cell_type": "markdown",
   "metadata": {},
   "source": [
    "### Just Reference (No Copying)"
   ]
  },
  {
   "cell_type": "code",
   "execution_count": 1,
   "metadata": {},
   "outputs": [
    {
     "name": "stdout",
     "output_type": "stream",
     "text": [
      "x = [[1, 2], [3, 4], [5, 6]]\n",
      "y = [[1, 2], [3, 4], [5, 6]]\n"
     ]
    }
   ],
   "source": [
    "x = [[1, 2], [3, 4], [5, 6]]\n",
    "y = x\n",
    "print(f'x = {x}')\n",
    "print(f'y = {y}')"
   ]
  },
  {
   "cell_type": "code",
   "execution_count": 2,
   "metadata": {},
   "outputs": [
    {
     "name": "stdout",
     "output_type": "stream",
     "text": [
      "x = [[-3, -4], [3, 4], [5, 6]]\n",
      "y = [[-3, -4], [3, 4], [5, 6]]\n"
     ]
    }
   ],
   "source": [
    "y[0] = [-3, -4]\n",
    "print(f'x = {x}')\n",
    "print(f'y = {y}')"
   ]
  },
  {
   "cell_type": "code",
   "execution_count": 3,
   "metadata": {},
   "outputs": [
    {
     "name": "stdout",
     "output_type": "stream",
     "text": [
      "x = [[-3, -4], [-3, 4], [5, 6]]\n",
      "y = [[-3, -4], [-3, 4], [5, 6]]\n"
     ]
    }
   ],
   "source": [
    "y[1][0] = -3\n",
    "print(f'x = {x}')\n",
    "print(f'y = {y}')"
   ]
  },
  {
   "cell_type": "code",
   "execution_count": 4,
   "metadata": {},
   "outputs": [
    {
     "name": "stdout",
     "output_type": "stream",
     "text": [
      "x = [[-3, -4], [-3, 4], [-5, 6]]\n",
      "y = [[-3, -4], [-3, 4], [-5, 6]]\n"
     ]
    }
   ],
   "source": [
    "x[2][0] = -5\n",
    "print(f'x = {x}')\n",
    "print(f'y = {y}')"
   ]
  },
  {
   "cell_type": "code",
   "execution_count": 5,
   "metadata": {},
   "outputs": [],
   "source": [
    "import copy"
   ]
  },
  {
   "cell_type": "markdown",
   "metadata": {},
   "source": [
    "### Shallow Copy"
   ]
  },
  {
   "cell_type": "code",
   "execution_count": 6,
   "metadata": {},
   "outputs": [
    {
     "name": "stdout",
     "output_type": "stream",
     "text": [
      "x = [[1, 2], [3, 4], [5, 6]]\n",
      "y = [[1, 2], [3, 4], [5, 6]]\n"
     ]
    }
   ],
   "source": [
    "x = [[1, 2], [3, 4], [5, 6]]\n",
    "y = copy.copy(x) # or y = x[:]\n",
    "print(f'x = {x}')\n",
    "print(f'y = {y}')"
   ]
  },
  {
   "cell_type": "code",
   "execution_count": 7,
   "metadata": {},
   "outputs": [
    {
     "name": "stdout",
     "output_type": "stream",
     "text": [
      "x = [[1, 2], [3, 4], [5, 6]]\n",
      "y = [[-3, -4], [3, 4], [5, 6]]\n"
     ]
    }
   ],
   "source": [
    "y[0] = [-3, -4]\n",
    "print(f'x = {x}')\n",
    "print(f'y = {y}')"
   ]
  },
  {
   "cell_type": "code",
   "execution_count": 8,
   "metadata": {},
   "outputs": [
    {
     "name": "stdout",
     "output_type": "stream",
     "text": [
      "x = [[1, 2], [-3, 4], [5, 6]]\n",
      "y = [[-3, -4], [-3, 4], [5, 6]]\n"
     ]
    }
   ],
   "source": [
    "y[1][0] = -3\n",
    "print(f'x = {x}')\n",
    "print(f'y = {y}')"
   ]
  },
  {
   "cell_type": "code",
   "execution_count": 9,
   "metadata": {},
   "outputs": [
    {
     "name": "stdout",
     "output_type": "stream",
     "text": [
      "x = [[1, 2], [-3, 4], [-5, 6]]\n",
      "y = [[-3, -4], [-3, 4], [-5, 6]]\n"
     ]
    }
   ],
   "source": [
    "x[2][0] = -5\n",
    "print(f'x = {x}')\n",
    "print(f'y = {y}')"
   ]
  },
  {
   "cell_type": "code",
   "execution_count": 10,
   "metadata": {},
   "outputs": [
    {
     "name": "stdout",
     "output_type": "stream",
     "text": [
      "x = [[1, 2], [-3, 4], [-5, 6]]\n",
      "y = [[-3, -4], [-3, 4], [-10, 6]]\n"
     ]
    }
   ],
   "source": [
    "y[2] = [-5, 6]\n",
    "y[2][0] = -10\n",
    "print(f'x = {x}')\n",
    "print(f'y = {y}')"
   ]
  },
  {
   "cell_type": "markdown",
   "metadata": {},
   "source": [
    "### Deep Copy"
   ]
  },
  {
   "cell_type": "code",
   "execution_count": 11,
   "metadata": {},
   "outputs": [
    {
     "name": "stdout",
     "output_type": "stream",
     "text": [
      "x = [[1, 2], [3, 4], [5, 6]]\n",
      "y = [[1, 2], [3, 4], [5, 6]]\n"
     ]
    }
   ],
   "source": [
    "x = [[1, 2], [3, 4], [5, 6]]\n",
    "y = copy.deepcopy(x)\n",
    "print(f'x = {x}')\n",
    "print(f'y = {y}')"
   ]
  },
  {
   "cell_type": "code",
   "execution_count": 12,
   "metadata": {},
   "outputs": [
    {
     "name": "stdout",
     "output_type": "stream",
     "text": [
      "x = [[1, 2], [3, 4], [5, 6]]\n",
      "y = [[-3, -4], [3, 4], [5, 6]]\n"
     ]
    }
   ],
   "source": [
    "y[0] = [-3, -4]\n",
    "print(f'x = {x}')\n",
    "print(f'y = {y}')"
   ]
  },
  {
   "cell_type": "code",
   "execution_count": 13,
   "metadata": {},
   "outputs": [
    {
     "name": "stdout",
     "output_type": "stream",
     "text": [
      "x = [[1, 2], [3, 4], [5, 6]]\n",
      "y = [[-3, -4], [-3, 4], [5, 6]]\n"
     ]
    }
   ],
   "source": [
    "y[1][0] = -3\n",
    "print(f'x = {x}')\n",
    "print(f'y = {y}')"
   ]
  },
  {
   "cell_type": "code",
   "execution_count": 14,
   "metadata": {},
   "outputs": [
    {
     "name": "stdout",
     "output_type": "stream",
     "text": [
      "x = [[1, 2], [3, 4], [-5, 6]]\n",
      "y = [[-3, -4], [-3, 4], [5, 6]]\n"
     ]
    }
   ],
   "source": [
    "x[2][0] = -5\n",
    "print(f'x = {x}')\n",
    "print(f'y = {y}')"
   ]
  },
  {
   "cell_type": "code",
   "execution_count": null,
   "metadata": {},
   "outputs": [],
   "source": []
  }
 ],
 "metadata": {
  "kernelspec": {
   "display_name": "Python 3",
   "language": "python",
   "name": "python3"
  },
  "language_info": {
   "codemirror_mode": {
    "name": "ipython",
    "version": 3
   },
   "file_extension": ".py",
   "mimetype": "text/x-python",
   "name": "python",
   "nbconvert_exporter": "python",
   "pygments_lexer": "ipython3",
   "version": "3.6.10"
  }
 },
 "nbformat": 4,
 "nbformat_minor": 4
}
