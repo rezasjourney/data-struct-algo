{
 "cells": [
  {
   "cell_type": "markdown",
   "metadata": {},
   "source": [
    "### Binary Search"
   ]
  },
  {
   "cell_type": "code",
   "execution_count": 1,
   "metadata": {},
   "outputs": [
    {
     "name": "stdout",
     "output_type": "stream",
     "text": [
      "2\n",
      "8\n"
     ]
    }
   ],
   "source": [
    "\"\"\"You're going to write a binary search function.\n",
    "You should use an iterative approach - meaning\n",
    "using loops.\n",
    "Your function should take two inputs:\n",
    "a Python list to search through, and the value\n",
    "you're searching for.\n",
    "Assume the list only has distinct elements,\n",
    "meaning there are no repeated values, and \n",
    "elements are in a strictly increasing order.\n",
    "Return the index of value, or -1 if the value\n",
    "doesn't exist in the list.\"\"\"\n",
    "\n",
    "def binary_search(input_array, value):\n",
    "    \"\"\"Your code goes here.\"\"\"\n",
    "    n = len(input_array)\n",
    "    start = 0\n",
    "    end = n - 1\n",
    "    \n",
    "    while start <= end:\n",
    "        middle = (end - start) // 2 + start\n",
    "        if value == input_array[middle]:\n",
    "            return middle\n",
    "        elif value > input_array[middle]:\n",
    "            start = middle + 1\n",
    "        else:\n",
    "            end = middle - 1\n",
    "            \n",
    "    return -1\n",
    "      \n",
    "\n",
    "test_list = [1,3,9,11,12,15,19,29,32]\n",
    "test_val1 = 9\n",
    "test_val2 = 32\n",
    "print(binary_search(test_list, test_val1))\n",
    "print(binary_search(test_list, test_val2))"
   ]
  },
  {
   "cell_type": "markdown",
   "metadata": {},
   "source": [
    "### Recursion"
   ]
  },
  {
   "cell_type": "code",
   "execution_count": 2,
   "metadata": {},
   "outputs": [],
   "source": [
    "\"\"\"Implement a function recursively to get the desired\n",
    "Fibonacci sequence value.\n",
    "Your code should have the same input/output as the \n",
    "iterative code in the instructions.\"\"\"\n",
    "\n",
    "def get_fib(position):\n",
    "    if position == 0:\n",
    "        return 0\n",
    "    elif position == 1:\n",
    "        return 1\n",
    "    else:\n",
    "        return get_fib(position - 1) + get_fib(position - 2)"
   ]
  },
  {
   "cell_type": "code",
   "execution_count": 3,
   "metadata": {},
   "outputs": [
    {
     "data": {
      "text/plain": [
       "34"
      ]
     },
     "execution_count": 3,
     "metadata": {},
     "output_type": "execute_result"
    }
   ],
   "source": [
    "get_fib(9)"
   ]
  },
  {
   "cell_type": "markdown",
   "metadata": {},
   "source": [
    "### Quick Sort (Using Additional Space)"
   ]
  },
  {
   "cell_type": "code",
   "execution_count": 4,
   "metadata": {},
   "outputs": [],
   "source": [
    "\"\"\"Implement quick sort in Python.\n",
    "Input a list.\n",
    "Output a sorted list.\"\"\"\n",
    "def quicksort(array):\n",
    "    if len(array) <= 1:\n",
    "        return array\n",
    "    \n",
    "    left = []\n",
    "    right = []\n",
    "    pivot = array.pop()\n",
    "\n",
    "    for item in array:\n",
    "        if item > pivot:\n",
    "            right.append(item)\n",
    "        else:\n",
    "            left.append(item)\n",
    "\n",
    "    return quicksort(left) + [pivot] + quicksort(right)"
   ]
  },
  {
   "cell_type": "code",
   "execution_count": 5,
   "metadata": {},
   "outputs": [
    {
     "name": "stdout",
     "output_type": "stream",
     "text": [
      "[1, 1, 2, 3, 4, 4, 5, 7, 7, 10]\n"
     ]
    }
   ],
   "source": [
    "print(quicksort([4, 2, 5, 7, 1, 3, 4, 7, 10, 1]))"
   ]
  },
  {
   "cell_type": "markdown",
   "metadata": {},
   "source": [
    "### Quick Sort (Inplace)"
   ]
  },
  {
   "cell_type": "code",
   "execution_count": 7,
   "metadata": {},
   "outputs": [],
   "source": [
    "\"\"\"Implement quick sort in Python.\n",
    "Input a list.\n",
    "Output a sorted list.\"\"\"\n",
    "def quicksort(array, start=0, end=None):\n",
    "    if end is None:\n",
    "        end = len(array) - 1\n",
    "    \n",
    "    if end - start == 0:\n",
    "        return array\n",
    "    else:\n",
    "#         middle = (end - start) // 2\n",
    "\n",
    "        pivot = start\n",
    "#         if array[start] < array[middle]:\n",
    "        \n",
    "        pivot_value = array[pivot]\n",
    "        array[start], array[pivot] = array[pivot], array[start]\n",
    "        print(array)\n",
    "        \n",
    "        border = start\n",
    "        for index in range(start + 2, end + 1):\n",
    "            if array[index] < pivot_value:\n",
    "                array[border], array[index] = array[index], array[border]\n",
    "                border += 1\n",
    "                print(array)\n",
    "        array[border], array[start] = array[start], array[border]\n",
    "        print(array)\n",
    "        return array\n",
    "        quicksort(array, start, border - 1)\n",
    "        quicksort(array, border + 1, end)"
   ]
  },
  {
   "cell_type": "code",
   "execution_count": 8,
   "metadata": {},
   "outputs": [
    {
     "name": "stdout",
     "output_type": "stream",
     "text": [
      "[4, 2, 5, 7, 1, 3, 4, 7, 10, 1]\n",
      "[1, 2, 5, 7, 4, 3, 4, 7, 10, 1]\n",
      "[1, 3, 5, 7, 4, 2, 4, 7, 10, 1]\n",
      "[1, 3, 1, 7, 4, 2, 4, 7, 10, 5]\n",
      "[7, 3, 1, 1, 4, 2, 4, 7, 10, 5]\n",
      "[7, 3, 1, 1, 4, 2, 4, 7, 10, 5]\n"
     ]
    }
   ],
   "source": [
    "print(quicksort([4, 2, 5, 7, 1, 3, 4, 7, 10, 1]))"
   ]
  },
  {
   "cell_type": "code",
   "execution_count": null,
   "metadata": {},
   "outputs": [],
   "source": []
  }
 ],
 "metadata": {
  "kernelspec": {
   "display_name": "Python 3",
   "language": "python",
   "name": "python3"
  },
  "language_info": {
   "codemirror_mode": {
    "name": "ipython",
    "version": 3
   },
   "file_extension": ".py",
   "mimetype": "text/x-python",
   "name": "python",
   "nbconvert_exporter": "python",
   "pygments_lexer": "ipython3",
   "version": "3.6.10"
  }
 },
 "nbformat": 4,
 "nbformat_minor": 4
}
